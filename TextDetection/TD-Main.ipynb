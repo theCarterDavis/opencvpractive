{
 "cells": [
  {
   "cell_type": "code",
   "id": "initial_id",
   "metadata": {
    "collapsed": true,
    "ExecuteTime": {
     "end_time": "2025-02-27T18:55:21.662671Z",
     "start_time": "2025-02-27T18:55:20.629549Z"
    }
   },
   "source": [
    "import easyocr #Better for in world detections\n",
    "import pytesseract #Better used for document detection\n",
    "from PIL import Image"
   ],
   "outputs": [],
   "execution_count": 4
  },
  {
   "metadata": {
    "ExecuteTime": {
     "end_time": "2025-02-27T19:09:47.448600Z",
     "start_time": "2025-02-27T19:09:47.445709Z"
    }
   },
   "cell_type": "code",
   "source": "imagePath = '/Users/carterdavis/PycharmProjects/opencvpractive/TextDetection/Dataset/yes.jpg'",
   "id": "77d8e02fe16f2c6",
   "outputs": [],
   "execution_count": 29
  },
  {
   "metadata": {
    "ExecuteTime": {
     "end_time": "2025-02-27T19:10:15.870606Z",
     "start_time": "2025-02-27T19:10:15.414445Z"
    }
   },
   "cell_type": "code",
   "source": [
    "text = pytesseract.image_to_string(Image.open(imagePath), lang='eng')\n",
    "print(text)"
   ],
   "id": "a2e951022432e540",
   "outputs": [
    {
     "name": "stdout",
     "output_type": "stream",
     "text": [
      "},\n",
      "\n",
      "%\n",
      "\n",
      "°F\n",
      "\n",
      "=\n",
      "\n",
      "\n"
     ]
    }
   ],
   "execution_count": 31
  },
  {
   "metadata": {
    "ExecuteTime": {
     "end_time": "2025-02-27T19:09:55.158645Z",
     "start_time": "2025-02-27T19:09:49.527765Z"
    }
   },
   "cell_type": "code",
   "source": [
    "from easyocr import Reader\n",
    "reader = Reader([\"en\"])\n",
    "\n",
    "results = reader.readtext(Image.open(imagePath))\n",
    "text = ''\n",
    "for result in results:\n",
    "    text = text + result[1] + \" \" \n",
    "    text = text[:-1]\n",
    "print(text)\n"
   ],
   "id": "dd125129599b4976",
   "outputs": [
    {
     "name": "stdout",
     "output_type": "stream",
     "text": [
      "ves\n"
     ]
    }
   ],
   "execution_count": 30
  },
  {
   "metadata": {},
   "cell_type": "code",
   "outputs": [],
   "execution_count": null,
   "source": "",
   "id": "c397073b6f593891"
  }
 ],
 "metadata": {
  "kernelspec": {
   "display_name": "Python 3",
   "language": "python",
   "name": "python3"
  },
  "language_info": {
   "codemirror_mode": {
    "name": "ipython",
    "version": 2
   },
   "file_extension": ".py",
   "mimetype": "text/x-python",
   "name": "python",
   "nbconvert_exporter": "python",
   "pygments_lexer": "ipython2",
   "version": "2.7.6"
  }
 },
 "nbformat": 4,
 "nbformat_minor": 5
}
